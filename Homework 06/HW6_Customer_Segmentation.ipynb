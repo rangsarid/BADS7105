{
  "nbformat": 4,
  "nbformat_minor": 0,
  "metadata": {
    "colab": {
      "name": "HW6_Customer_Segmentation.ipynb",
      "provenance": []
    },
    "kernelspec": {
      "name": "python3",
      "display_name": "Python 3"
    },
    "language_info": {
      "name": "python"
    }
  },
  "cells": [
    {
      "cell_type": "code",
      "metadata": {
        "id": "jgqPC1FymT2x"
      },
      "source": [
        "import pandas as pd\n",
        "import numpy as np \n",
        "from google.colab import auth\n",
        "auth.authenticate_user()"
      ],
      "execution_count": 1,
      "outputs": []
    },
    {
      "cell_type": "code",
      "metadata": {
        "colab": {
          "base_uri": "https://localhost:8080/"
        },
        "id": "d1MNW6CUHMYr",
        "outputId": "4b30882a-3234-4421-8de6-c1dce6a54e0b"
      },
      "source": [
        "## G-google mount drive\n",
        "from google.colab import drive\n",
        "drive.mount('/content/drive')"
      ],
      "execution_count": 2,
      "outputs": [
        {
          "output_type": "stream",
          "text": [
            "Mounted at /content/drive\n"
          ],
          "name": "stdout"
        }
      ]
    },
    {
      "cell_type": "code",
      "metadata": {
        "id": "OVfuBuMrHMuX"
      },
      "source": [
        "path = '/content/drive/MyDrive/CRM_project/้Hw6/'"
      ],
      "execution_count": 3,
      "outputs": []
    },
    {
      "cell_type": "code",
      "metadata": {
        "id": "AHcoDWRumZTg"
      },
      "source": [
        "project_id = 'crmproject-308203'\n",
        "\n",
        "sql = \"\"\" select * from  `crmproject-308203.crm_rangsarid.customer_new` \"\"\"\n",
        "df = pd.io.gbq.read_gbq(sql , project_id=project_id, verbose=False, dialect=\"standard\")"
      ],
      "execution_count": 4,
      "outputs": []
    },
    {
      "cell_type": "code",
      "metadata": {
        "colab": {
          "base_uri": "https://localhost:8080/",
          "height": 438
        },
        "id": "XTHsUqX6s9Af",
        "outputId": "94ab82b6-c7f5-471f-e32e-9c7eccecf2a1"
      },
      "source": [
        "df.head(100)"
      ],
      "execution_count": 5,
      "outputs": [
        {
          "output_type": "execute_result",
          "data": {
            "text/html": [
              "<div>\n",
              "<style scoped>\n",
              "    .dataframe tbody tr th:only-of-type {\n",
              "        vertical-align: middle;\n",
              "    }\n",
              "\n",
              "    .dataframe tbody tr th {\n",
              "        vertical-align: top;\n",
              "    }\n",
              "\n",
              "    .dataframe thead th {\n",
              "        text-align: right;\n",
              "    }\n",
              "</style>\n",
              "<table border=\"1\" class=\"dataframe\">\n",
              "  <thead>\n",
              "    <tr style=\"text-align: right;\">\n",
              "      <th></th>\n",
              "      <th>CUST_CODE</th>\n",
              "      <th>TOTAL_VISIT</th>\n",
              "      <th>TOTAL_SPEND</th>\n",
              "      <th>TICKET_SIZE</th>\n",
              "      <th>STD_SPEND</th>\n",
              "      <th>Duration_LAST_SHOPDATE</th>\n",
              "      <th>DUration_FIRST_SHOPDATE</th>\n",
              "      <th>LENGTH_STAY</th>\n",
              "      <th>AVG_TIME_TO_EVENT</th>\n",
              "      <th>MOD_BASKET</th>\n",
              "    </tr>\n",
              "  </thead>\n",
              "  <tbody>\n",
              "    <tr>\n",
              "      <th>0</th>\n",
              "      <td>CUST0000235688</td>\n",
              "      <td>1</td>\n",
              "      <td>0.63</td>\n",
              "      <td>0.630</td>\n",
              "      <td>0.000</td>\n",
              "      <td>626</td>\n",
              "      <td>626</td>\n",
              "      <td>0</td>\n",
              "      <td>0.0</td>\n",
              "      <td>1</td>\n",
              "    </tr>\n",
              "    <tr>\n",
              "      <th>1</th>\n",
              "      <td>CUST0000060915</td>\n",
              "      <td>1</td>\n",
              "      <td>1.06</td>\n",
              "      <td>1.060</td>\n",
              "      <td>0.000</td>\n",
              "      <td>765</td>\n",
              "      <td>765</td>\n",
              "      <td>0</td>\n",
              "      <td>0.0</td>\n",
              "      <td>1</td>\n",
              "    </tr>\n",
              "    <tr>\n",
              "      <th>2</th>\n",
              "      <td>CUST0000552995</td>\n",
              "      <td>1</td>\n",
              "      <td>0.98</td>\n",
              "      <td>0.980</td>\n",
              "      <td>0.000</td>\n",
              "      <td>211</td>\n",
              "      <td>211</td>\n",
              "      <td>0</td>\n",
              "      <td>0.0</td>\n",
              "      <td>1</td>\n",
              "    </tr>\n",
              "    <tr>\n",
              "      <th>3</th>\n",
              "      <td>CUST0000138770</td>\n",
              "      <td>1</td>\n",
              "      <td>1.83</td>\n",
              "      <td>0.915</td>\n",
              "      <td>0.055</td>\n",
              "      <td>425</td>\n",
              "      <td>425</td>\n",
              "      <td>0</td>\n",
              "      <td>0.0</td>\n",
              "      <td>1</td>\n",
              "    </tr>\n",
              "    <tr>\n",
              "      <th>4</th>\n",
              "      <td>CUST0000069692</td>\n",
              "      <td>1</td>\n",
              "      <td>1.56</td>\n",
              "      <td>1.560</td>\n",
              "      <td>0.000</td>\n",
              "      <td>303</td>\n",
              "      <td>303</td>\n",
              "      <td>0</td>\n",
              "      <td>0.0</td>\n",
              "      <td>1</td>\n",
              "    </tr>\n",
              "    <tr>\n",
              "      <th>...</th>\n",
              "      <td>...</td>\n",
              "      <td>...</td>\n",
              "      <td>...</td>\n",
              "      <td>...</td>\n",
              "      <td>...</td>\n",
              "      <td>...</td>\n",
              "      <td>...</td>\n",
              "      <td>...</td>\n",
              "      <td>...</td>\n",
              "      <td>...</td>\n",
              "    </tr>\n",
              "    <tr>\n",
              "      <th>95</th>\n",
              "      <td>CUST0000006052</td>\n",
              "      <td>1</td>\n",
              "      <td>0.53</td>\n",
              "      <td>0.530</td>\n",
              "      <td>0.000</td>\n",
              "      <td>558</td>\n",
              "      <td>558</td>\n",
              "      <td>0</td>\n",
              "      <td>0.0</td>\n",
              "      <td>1</td>\n",
              "    </tr>\n",
              "    <tr>\n",
              "      <th>96</th>\n",
              "      <td>CUST0000815872</td>\n",
              "      <td>1</td>\n",
              "      <td>1.54</td>\n",
              "      <td>1.540</td>\n",
              "      <td>0.000</td>\n",
              "      <td>651</td>\n",
              "      <td>651</td>\n",
              "      <td>0</td>\n",
              "      <td>0.0</td>\n",
              "      <td>1</td>\n",
              "    </tr>\n",
              "    <tr>\n",
              "      <th>97</th>\n",
              "      <td>CUST0000487493</td>\n",
              "      <td>1</td>\n",
              "      <td>1.30</td>\n",
              "      <td>0.650</td>\n",
              "      <td>0.200</td>\n",
              "      <td>554</td>\n",
              "      <td>554</td>\n",
              "      <td>0</td>\n",
              "      <td>0.0</td>\n",
              "      <td>1</td>\n",
              "    </tr>\n",
              "    <tr>\n",
              "      <th>98</th>\n",
              "      <td>CUST0000242019</td>\n",
              "      <td>1</td>\n",
              "      <td>1.04</td>\n",
              "      <td>1.040</td>\n",
              "      <td>0.000</td>\n",
              "      <td>116</td>\n",
              "      <td>116</td>\n",
              "      <td>0</td>\n",
              "      <td>0.0</td>\n",
              "      <td>1</td>\n",
              "    </tr>\n",
              "    <tr>\n",
              "      <th>99</th>\n",
              "      <td>CUST0000981616</td>\n",
              "      <td>1</td>\n",
              "      <td>0.34</td>\n",
              "      <td>0.340</td>\n",
              "      <td>0.000</td>\n",
              "      <td>111</td>\n",
              "      <td>111</td>\n",
              "      <td>0</td>\n",
              "      <td>0.0</td>\n",
              "      <td>1</td>\n",
              "    </tr>\n",
              "  </tbody>\n",
              "</table>\n",
              "<p>100 rows × 10 columns</p>\n",
              "</div>"
            ],
            "text/plain": [
              "         CUST_CODE  TOTAL_VISIT  ...  AVG_TIME_TO_EVENT  MOD_BASKET\n",
              "0   CUST0000235688            1  ...                0.0           1\n",
              "1   CUST0000060915            1  ...                0.0           1\n",
              "2   CUST0000552995            1  ...                0.0           1\n",
              "3   CUST0000138770            1  ...                0.0           1\n",
              "4   CUST0000069692            1  ...                0.0           1\n",
              "..             ...          ...  ...                ...         ...\n",
              "95  CUST0000006052            1  ...                0.0           1\n",
              "96  CUST0000815872            1  ...                0.0           1\n",
              "97  CUST0000487493            1  ...                0.0           1\n",
              "98  CUST0000242019            1  ...                0.0           1\n",
              "99  CUST0000981616            1  ...                0.0           1\n",
              "\n",
              "[100 rows x 10 columns]"
            ]
          },
          "metadata": {
            "tags": []
          },
          "execution_count": 5
        }
      ]
    },
    {
      "cell_type": "code",
      "metadata": {
        "id": "tFU6tQ0rvABj"
      },
      "source": [
        "from sklearn.cluster import KMeans\n",
        "from datetime import date,datetime\n",
        "from sklearn import preprocessing\n",
        "from sklearn.metrics import silhouette_score\n",
        "import seaborn as sns\n",
        "from sklearn.preprocessing import scale, StandardScaler\n",
        "\n",
        "from sklearn.cluster import KMeans\n",
        "from sklearn.ensemble import RandomForestClassifier\n",
        "from sklearn.metrics import silhouette_score\n",
        "from sklearn.preprocessing import scale, StandardScaler\n",
        "sns.set()"
      ],
      "execution_count": 8,
      "outputs": []
    },
    {
      "cell_type": "code",
      "metadata": {
        "id": "qTW6QiWH-RyM"
      },
      "source": [
        "## fearture correlation \n",
        "corr =df.iloc[:,1:].corr()"
      ],
      "execution_count": 6,
      "outputs": []
    },
    {
      "cell_type": "code",
      "metadata": {
        "colab": {
          "base_uri": "https://localhost:8080/",
          "height": 588
        },
        "id": "HHcc3kTT-m4D",
        "outputId": "47f10072-3bcd-4527-f688-33de757ab122"
      },
      "source": [
        "import matplotlib.pyplot as plt\n",
        "plt.figure(figsize=(10, 8), dpi=80)\n",
        "sns.heatmap(corr)\n",
        "plt.yticks(rotation=45,fontsize=5)\n",
        "plt.xticks(rotation=45,fontsize=5)\n",
        "plt.savefig(f'{path}corr9.png',dpi = 150 , format = 'png' )"
      ],
      "execution_count": 50,
      "outputs": [
        {
          "output_type": "display_data",
          "data": {
            "image/png": "[encoded data removed]",
            "text/plain": [
              "<Figure size 800x640 with 2 Axes>"
            ]
          },
          "metadata": {
            "tags": []
          }
        }
      ]
    },
    {
      "cell_type": "markdown",
      "metadata": {
        "id": "NYbXY2-7C7iJ"
      },
      "source": [
        "## Standardize Scalar"
      ]
    },
    {
      "cell_type": "code",
      "metadata": {
        "id": "L6PF1u9Ax9Hs"
      },
      "source": [
        "X_std = pd.DataFrame(StandardScaler().fit_transform(df.iloc[:,1:]))"
      ],
      "execution_count": 11,
      "outputs": []
    },
    {
      "cell_type": "code",
      "metadata": {
        "id": "U2QSrXdWvKSP"
      },
      "source": [
        "wcss = []\n",
        "k_list = []\n",
        "sil=[]\n",
        "i=1\n",
        "for k in range(2, 17):\n",
        "    km = KMeans(n_clusters = k)\n",
        "    km = km.fit(X_std)\n",
        "    k_list.append(k)\n",
        "    wcss.append(km.inertia_)\n",
        "    labels = km.labels_\n",
        "    sil.append(silhouette_score(X_std, km.labels_, metric = 'euclidean'))\n",
        "    i = i+1\n",
        "    #print(i)"
      ],
      "execution_count": 12,
      "outputs": []
    },
    {
      "cell_type": "code",
      "metadata": {
        "colab": {
          "base_uri": "https://localhost:8080/",
          "height": 410
        },
        "id": "QGS59q0pwLDF",
        "outputId": "eed558bf-7b39-4a08-99ea-ae11bb9dec31"
      },
      "source": [
        "import matplotlib.pyplot as plt\n",
        "plt.figure(figsize=(8,6))\n",
        "plt.plot(k_list, wcss, 'bx-')\n",
        "plt.xlabel('Values of K')\n",
        "plt.ylabel('Distortion')\n",
        "plt.title('The Elbow Method using Distortion')\n",
        "#plt.show()\n",
        "plt.savefig(f'{path}elbow.png',dpi = 150 , format = 'png' )"
      ],
      "execution_count": 20,
      "outputs": [
        {
          "output_type": "display_data",
          "data": {
            "image/png": "[encoded data removed]",
            "text/plain": [
              "<Figure size 576x432 with 1 Axes>"
            ]
          },
          "metadata": {
            "tags": []
          }
        }
      ]
    },
    {
      "cell_type": "code",
      "metadata": {
        "colab": {
          "base_uri": "https://localhost:8080/",
          "height": 410
        },
        "id": "wBPBWoUVwMxN",
        "outputId": "afe1f232-b38a-44a1-a184-4db8b3c7703b"
      },
      "source": [
        "import matplotlib.pyplot as plt\n",
        "plt.figure(figsize=(8,6))\n",
        "plt.plot(k_list, sil, 'bx-',color= 'red')\n",
        "plt.xlabel('Values of K')\n",
        "plt.ylabel('Silhouette_score')\n",
        "plt.title('The silhouette_score Method')\n",
        "#plt.show() ### K 5\n",
        "plt.savefig(f'{path}sisl.png',dpi = 150 , format = 'png' )"
      ],
      "execution_count": 19,
      "outputs": [
        {
          "output_type": "display_data",
          "data": {
            "image/png": "[encoded data removed]",
            "text/plain": [
              "<Figure size 576x432 with 1 Axes>"
            ]
          },
          "metadata": {
            "tags": []
          }
        }
      ]
    },
    {
      "cell_type": "code",
      "metadata": {
        "id": "TZ3DSEQgwOi9"
      },
      "source": [
        "kmeanModel = KMeans(n_clusters=3)\n",
        "df['cluster'] = kmeanModel.fit_predict(X_std)\n",
        "centroids = kmeanModel.cluster_centers_\n",
        "labels = kmeanModel.labels_"
      ],
      "execution_count": 53,
      "outputs": []
    },
    {
      "cell_type": "code",
      "metadata": {
        "colab": {
          "base_uri": "https://localhost:8080/",
          "height": 224
        },
        "id": "ju4yfNLkxR51",
        "outputId": "e1137ed0-5fc9-457f-c3fa-ac0918e86daa"
      },
      "source": [
        "df.head()"
      ],
      "execution_count": 58,
      "outputs": [
        {
          "output_type": "execute_result",
          "data": {
            "text/html": [
              "<div>\n",
              "<style scoped>\n",
              "    .dataframe tbody tr th:only-of-type {\n",
              "        vertical-align: middle;\n",
              "    }\n",
              "\n",
              "    .dataframe tbody tr th {\n",
              "        vertical-align: top;\n",
              "    }\n",
              "\n",
              "    .dataframe thead th {\n",
              "        text-align: right;\n",
              "    }\n",
              "</style>\n",
              "<table border=\"1\" class=\"dataframe\">\n",
              "  <thead>\n",
              "    <tr style=\"text-align: right;\">\n",
              "      <th></th>\n",
              "      <th>CUST_CODE</th>\n",
              "      <th>TOTAL_VISIT</th>\n",
              "      <th>TOTAL_SPEND</th>\n",
              "      <th>TICKET_SIZE</th>\n",
              "      <th>STD_SPEND</th>\n",
              "      <th>Duration_LAST_SHOPDATE</th>\n",
              "      <th>DUration_FIRST_SHOPDATE</th>\n",
              "      <th>LENGTH_STAY</th>\n",
              "      <th>AVG_TIME_TO_EVENT</th>\n",
              "      <th>MOD_BASKET</th>\n",
              "      <th>cluster</th>\n",
              "    </tr>\n",
              "  </thead>\n",
              "  <tbody>\n",
              "    <tr>\n",
              "      <th>0</th>\n",
              "      <td>CUST0000235688</td>\n",
              "      <td>1</td>\n",
              "      <td>0.63</td>\n",
              "      <td>0.630</td>\n",
              "      <td>0.000</td>\n",
              "      <td>626</td>\n",
              "      <td>626</td>\n",
              "      <td>0</td>\n",
              "      <td>0.0</td>\n",
              "      <td>1</td>\n",
              "      <td>1</td>\n",
              "    </tr>\n",
              "    <tr>\n",
              "      <th>1</th>\n",
              "      <td>CUST0000060915</td>\n",
              "      <td>1</td>\n",
              "      <td>1.06</td>\n",
              "      <td>1.060</td>\n",
              "      <td>0.000</td>\n",
              "      <td>765</td>\n",
              "      <td>765</td>\n",
              "      <td>0</td>\n",
              "      <td>0.0</td>\n",
              "      <td>1</td>\n",
              "      <td>1</td>\n",
              "    </tr>\n",
              "    <tr>\n",
              "      <th>2</th>\n",
              "      <td>CUST0000552995</td>\n",
              "      <td>1</td>\n",
              "      <td>0.98</td>\n",
              "      <td>0.980</td>\n",
              "      <td>0.000</td>\n",
              "      <td>211</td>\n",
              "      <td>211</td>\n",
              "      <td>0</td>\n",
              "      <td>0.0</td>\n",
              "      <td>1</td>\n",
              "      <td>1</td>\n",
              "    </tr>\n",
              "    <tr>\n",
              "      <th>3</th>\n",
              "      <td>CUST0000138770</td>\n",
              "      <td>1</td>\n",
              "      <td>1.83</td>\n",
              "      <td>0.915</td>\n",
              "      <td>0.055</td>\n",
              "      <td>425</td>\n",
              "      <td>425</td>\n",
              "      <td>0</td>\n",
              "      <td>0.0</td>\n",
              "      <td>1</td>\n",
              "      <td>1</td>\n",
              "    </tr>\n",
              "    <tr>\n",
              "      <th>4</th>\n",
              "      <td>CUST0000069692</td>\n",
              "      <td>1</td>\n",
              "      <td>1.56</td>\n",
              "      <td>1.560</td>\n",
              "      <td>0.000</td>\n",
              "      <td>303</td>\n",
              "      <td>303</td>\n",
              "      <td>0</td>\n",
              "      <td>0.0</td>\n",
              "      <td>1</td>\n",
              "      <td>1</td>\n",
              "    </tr>\n",
              "  </tbody>\n",
              "</table>\n",
              "</div>"
            ],
            "text/plain": [
              "        CUST_CODE  TOTAL_VISIT  ...  MOD_BASKET  cluster\n",
              "0  CUST0000235688            1  ...           1        1\n",
              "1  CUST0000060915            1  ...           1        1\n",
              "2  CUST0000552995            1  ...           1        1\n",
              "3  CUST0000138770            1  ...           1        1\n",
              "4  CUST0000069692            1  ...           1        1\n",
              "\n",
              "[5 rows x 11 columns]"
            ]
          },
          "metadata": {
            "tags": []
          },
          "execution_count": 58
        }
      ]
    },
    {
      "cell_type": "code",
      "metadata": {
        "colab": {
          "base_uri": "https://localhost:8080/",
          "height": 297
        },
        "id": "FegMS_Nvy7w7",
        "outputId": "92ba9a0e-7c60-4cf4-d6a9-fb38c05c7663"
      },
      "source": [
        "## Feature Importance\n",
        "X = df.iloc[:,1:-1]\n",
        "y = df.iloc[:,-1]\n",
        "clf = RandomForestClassifier(criterion = 'entropy').fit(X, y)\n",
        "plt.figure(figsize=(30,10))\n",
        "df_importance = pd.DataFrame({'Feature': X.columns, 'Importance' : clf.feature_importances_}).set_index('Feature')\n",
        "df_importance.sort_values('Importance').plot.barh(title='Repeat-Purchase Customers - Feature Importance' )\n",
        "#plt.ylabel('feature', fontsize=20)\n",
        "plt.yticks(rotation=45,fontsize=4)\n",
        "plt.xticks(fontsize=5)\n",
        "#plt.legend(loc=2, prop={'size': 1})\n",
        "plt.savefig(f'{path}feature.png',dpi = 150 , format = 'png' )"
      ],
      "execution_count": 59,
      "outputs": [
        {
          "output_type": "display_data",
          "data": {
            "text/plain": [
              "<Figure size 2160x720 with 0 Axes>"
            ]
          },
          "metadata": {
            "tags": []
          }
        },
        {
          "output_type": "display_data",
          "data": {
            "image/png": "[encoded data removed]",
            "text/plain": [
              "<Figure size 432x288 with 1 Axes>"
            ]
          },
          "metadata": {
            "tags": []
          }
        }
      ]
    },
    {
      "cell_type": "code",
      "metadata": {
        "colab": {
          "base_uri": "https://localhost:8080/",
          "height": 161
        },
        "id": "keoZdpoh9tJZ",
        "outputId": "736426c7-f14e-439a-c130-b633841c2008"
      },
      "source": [
        "dfCluster = df.groupby('cluster', as_index=False).mean()\n",
        "dfCluster['NO_CUST'] = df[['cluster','CUST_CODE']].groupby('cluster').count()\n",
        "\n",
        "dfCluster"
      ],
      "execution_count": 60,
      "outputs": [
        {
          "output_type": "execute_result",
          "data": {
            "text/html": [
              "<div>\n",
              "<style scoped>\n",
              "    .dataframe tbody tr th:only-of-type {\n",
              "        vertical-align: middle;\n",
              "    }\n",
              "\n",
              "    .dataframe tbody tr th {\n",
              "        vertical-align: top;\n",
              "    }\n",
              "\n",
              "    .dataframe thead th {\n",
              "        text-align: right;\n",
              "    }\n",
              "</style>\n",
              "<table border=\"1\" class=\"dataframe\">\n",
              "  <thead>\n",
              "    <tr style=\"text-align: right;\">\n",
              "      <th></th>\n",
              "      <th>cluster</th>\n",
              "      <th>TOTAL_VISIT</th>\n",
              "      <th>TOTAL_SPEND</th>\n",
              "      <th>TICKET_SIZE</th>\n",
              "      <th>STD_SPEND</th>\n",
              "      <th>Duration_LAST_SHOPDATE</th>\n",
              "      <th>DUration_FIRST_SHOPDATE</th>\n",
              "      <th>LENGTH_STAY</th>\n",
              "      <th>AVG_TIME_TO_EVENT</th>\n",
              "      <th>MOD_BASKET</th>\n",
              "      <th>NO_CUST</th>\n",
              "    </tr>\n",
              "  </thead>\n",
              "  <tbody>\n",
              "    <tr>\n",
              "      <th>0</th>\n",
              "      <td>0</td>\n",
              "      <td>17.133046</td>\n",
              "      <td>179.016915</td>\n",
              "      <td>1.981916</td>\n",
              "      <td>1.978629</td>\n",
              "      <td>77.788069</td>\n",
              "      <td>681.844584</td>\n",
              "      <td>604.056515</td>\n",
              "      <td>94.040380</td>\n",
              "      <td>1.968995</td>\n",
              "      <td>2548</td>\n",
              "    </tr>\n",
              "    <tr>\n",
              "      <th>1</th>\n",
              "      <td>1</td>\n",
              "      <td>2.206156</td>\n",
              "      <td>18.543568</td>\n",
              "      <td>1.840917</td>\n",
              "      <td>0.942186</td>\n",
              "      <td>411.039756</td>\n",
              "      <td>454.193011</td>\n",
              "      <td>43.153254</td>\n",
              "      <td>12.577228</td>\n",
              "      <td>1.730042</td>\n",
              "      <td>3119</td>\n",
              "    </tr>\n",
              "    <tr>\n",
              "      <th>2</th>\n",
              "      <td>2</td>\n",
              "      <td>165.454965</td>\n",
              "      <td>2279.125173</td>\n",
              "      <td>1.882289</td>\n",
              "      <td>2.329545</td>\n",
              "      <td>5.750577</td>\n",
              "      <td>797.963048</td>\n",
              "      <td>792.212471</td>\n",
              "      <td>6.460566</td>\n",
              "      <td>2.496536</td>\n",
              "      <td>433</td>\n",
              "    </tr>\n",
              "  </tbody>\n",
              "</table>\n",
              "</div>"
            ],
            "text/plain": [
              "   cluster  TOTAL_VISIT  TOTAL_SPEND  ...  AVG_TIME_TO_EVENT  MOD_BASKET  NO_CUST\n",
              "0        0    17.133046   179.016915  ...          94.040380    1.968995     2548\n",
              "1        1     2.206156    18.543568  ...          12.577228    1.730042     3119\n",
              "2        2   165.454965  2279.125173  ...           6.460566    2.496536      433\n",
              "\n",
              "[3 rows x 11 columns]"
            ]
          },
          "metadata": {
            "tags": []
          },
          "execution_count": 60
        }
      ]
    },
    {
      "cell_type": "code",
      "metadata": {
        "colab": {
          "base_uri": "https://localhost:8080/",
          "height": 303
        },
        "id": "nAuAzVOYzXxf",
        "outputId": "f571f391-a9bc-41d4-db4b-64de092380eb"
      },
      "source": [
        "import matplotlib.pyplot as plt\n",
        "import seaborn as sns\n",
        "\n",
        "plt.figure()\n",
        "fig, ax = plt.subplots()\n",
        "ax.scatter(dfCluster['LENGTH_STAY'], dfCluster['TOTAL_SPEND'], s=dfCluster['NO_CUST'], alpha = 0.5)\n",
        "ax.set_xlabel(\"LENGTH_STAY\")\n",
        "ax.set_ylabel(\"TOTAL_SPEND\")\n",
        "\n",
        "for i, txt in enumerate(dfCluster['cluster']):\n",
        "  ax.annotate(txt, (dfCluster['LENGTH_STAY'][i], dfCluster[\"TOTAL_SPEND\"][i]), horizontalalignment='center', verticalalignment='center')\n",
        "\n",
        "#plt.show()\n",
        "plt.savefig(f'{path}cluster.png',dpi = 150 , format = 'png' )"
      ],
      "execution_count": 64,
      "outputs": [
        {
          "output_type": "display_data",
          "data": {
            "text/plain": [
              "<Figure size 432x288 with 0 Axes>"
            ]
          },
          "metadata": {
            "tags": []
          }
        },
        {
          "output_type": "display_data",
          "data": {
            "image/png": "[encoded data removed]",
            "text/plain": [
              "<Figure size 432x288 with 1 Axes>"
            ]
          },
          "metadata": {
            "tags": []
          }
        }
      ]
    },
    {
      "cell_type": "code",
      "metadata": {
        "id": "7RUzIEWKAUvs"
      },
      "source": [
        "df.to_csv(f'{path}cluster.csv')"
      ],
      "execution_count": 56,
      "outputs": []
    }
  ]
}